{
 "cells": [
  {
   "cell_type": "markdown",
   "metadata": {},
   "source": [
    "# Newbie Note"
   ]
  },
  {
   "cell_type": "markdown",
   "metadata": {},
   "source": [
    "You can just scroll through this document and read it.\n",
    "If you want to change some of the source code and try it yourself, simply edit the code and press the play button to the left of the code.\n",
    "If you get errors, be sure you have first run all the previous code in the document. The easiest way to do that is pick \"Run All\" from the \"Runtime\" menu."
   ]
  },
  {
   "cell_type": "markdown",
   "metadata": {},
   "source": [
    "# Net Present Value\n",
    "This document shows how to compute the net present value (NPV) for a product."
   ]
  },
  {
   "cell_type": "markdown",
   "metadata": {},
   "source": [
    "Let's get things started by importing a few things we need."
   ]
  },
  {
   "cell_type": "code",
   "execution_count": 186,
   "metadata": {},
   "outputs": [],
   "source": [
    "import numpy as np # linear algebra library\n",
    "import matplotlib.pyplot as plt # plotting library"
   ]
  },
  {
   "cell_type": "markdown",
   "metadata": {},
   "source": [
    "Now let's define a present value function and a future value function."
   ]
  },
  {
   "cell_type": "code",
   "execution_count": 187,
   "metadata": {},
   "outputs": [],
   "source": [
    "def pv(future_value, rate, periods):\n",
    "    return future_value / (1 + rate) ** periods\n",
    "\n",
    "def fv(present_value, rate, periods):\n",
    "    return present_value * (1 + rate) ** periods"
   ]
  },
  {
   "cell_type": "markdown",
   "metadata": {},
   "source": [
    "For example, what is the future value of $100 at a rate of 3% per year after 5.4 years?\n",
    "\n",
    "Feel free to change the values and press the run button to the left of the code. Remember, if you see an error, make sure to pick \"Run All\" from the \"Runtime\" menu the first time."
   ]
  },
  {
   "cell_type": "code",
   "execution_count": 188,
   "metadata": {},
   "outputs": [
    {
     "data": {
      "text/plain": [
       "117.30621265790838"
      ]
     },
     "execution_count": 188,
     "metadata": {},
     "output_type": "execute_result"
    }
   ],
   "source": [
    "fv(100, 0.03, 5.4)"
   ]
  },
  {
   "cell_type": "markdown",
   "metadata": {},
   "source": [
    "# Company Constants\n",
    "Now let's define some global constants for our company"
   ]
  },
  {
   "cell_type": "code",
   "execution_count": 189,
   "metadata": {},
   "outputs": [],
   "source": [
    "# what we would expect to earn on an investment in a financial market with a similar risk\n",
    "market_return = 0.03\n",
    "\n",
    "# how much it costs per person to run a product development team (in present dollars)\n",
    "development_fte_cost_pv = 50000\n",
    "\n",
    "# how much the cost of development increases each year\n",
    "development_cost_trend = 0.03\n",
    "\n",
    "# how much the cost of a product increases each year\n",
    "unit_cost_trend = 0.03\n",
    "\n",
    "# how much the selling price of a product increases each year\n",
    "unit_price_trend = 0.03\n",
    "\n",
    "# the percentage of the selling price that is allocated to cover selling, general, and administrative expenses\n",
    "sga_percentage = 0.30"
   ]
  },
  {
   "cell_type": "markdown",
   "metadata": {},
   "source": [
    "So let's see how much it costs per person in a development team in three years from now."
   ]
  },
  {
   "cell_type": "code",
   "execution_count": 190,
   "metadata": {},
   "outputs": [
    {
     "data": {
      "text/plain": [
       "54636.35"
      ]
     },
     "execution_count": 190,
     "metadata": {},
     "output_type": "execute_result"
    }
   ],
   "source": [
    "fv(development_fte_cost_pv, development_cost_trend, 3)"
   ]
  },
  {
   "cell_type": "markdown",
   "metadata": {},
   "source": [
    "# Product Variables\n",
    "Now let's define some more variables that describe our product."
   ]
  },
  {
   "cell_type": "code",
   "execution_count": 191,
   "metadata": {},
   "outputs": [],
   "source": [
    "# the number of people (full time equivalents) on the development team\n",
    "development_ftes = 5\n",
    "\n",
    "# the number of years remaining to develop the product\n",
    "remaining_development_years = 4\n",
    "\n",
    "# the number of remaining years after development that the product will be sold\n",
    "remaining_delay_years = 1\n",
    "\n",
    "# the number of people that need to keep working on the product after development\n",
    "maintenance_ftes = 0.5\n",
    "\n",
    "# the cost to manufacture one unit of the product (in present dollars)\n",
    "unit_cost_pv = 10000\n",
    "\n",
    "# the selling price of the product (in present dollars)\n",
    "unit_price_pv = 20000\n",
    "\n",
    "# the number of units that are expected to be sold per year\n",
    "yearly_unit_sales = 100\n",
    "\n",
    "# the number of years that the product is expected to be sold\n",
    "remaining_years_of_sales = 10"
   ]
  },
  {
   "cell_type": "markdown",
   "metadata": {},
   "source": [
    "# The NPV Calculation\n",
    "Now let's write a (big) function that calculates the net present value of the product given the variables above.\n",
    "\n",
    "We first run through the remaining development years and remove those costs from our NPV\n",
    "\n",
    "We then run through the remaining delay years, just removing maintenance costs from our NPV\n",
    "\n",
    "We then run through all the remaining years of product sales, adding in sales and removing costs"
   ]
  },
  {
   "cell_type": "markdown",
   "metadata": {},
   "source": []
  },
  {
   "cell_type": "code",
   "execution_count": 192,
   "metadata": {},
   "outputs": [],
   "source": [
    "def calculate_npv(remaining_development_years, development_ftes, maintenance_ftes, remaining_delay_years, unit_cost_pv, unit_price_pv, yearly_unit_sales, remaining_years_of_sales):\n",
    "\n",
    "    # this is what we will calculate and return \n",
    "    npv = 0\n",
    "\n",
    "    # starting at year zero (today)\n",
    "    year = 0\n",
    "\n",
    "    # let's compute the remaining product development costs, one year at a time\n",
    "    for _ in range(remaining_development_years):\n",
    "\n",
    "        # compute the future value of the cost of development for this year\n",
    "        development_cost_fte_fv = fv(development_fte_cost_pv, development_cost_trend, year)\n",
    "\n",
    "        # compute the future value of this year (as a negative)\n",
    "        fv_year = -development_cost_fte_fv * development_ftes\n",
    "\n",
    "        # add the (negative) cost of development to the npv\n",
    "        npv += pv(fv_year, market_return, year)\n",
    "\n",
    "        # move to the next year\n",
    "        year += 1\n",
    "\n",
    "    # let's compute the cost of delay\n",
    "    for _ in range(remaining_delay_years):\n",
    "\n",
    "        # compute the future value of the cost of development for this year\n",
    "        development_cost_fte_fv = fv(development_fte_cost_pv, development_cost_trend, year)\n",
    "\n",
    "        # compute the future value of this year (as a negative)\n",
    "        fv_year = -development_cost_fte_fv * maintenance_ftes\n",
    "\n",
    "        # add the (negative) cost of development to the npv\n",
    "        npv += pv(fv_year, market_return, year)\n",
    "\n",
    "        # move to the next year\n",
    "        year += 1\n",
    "\n",
    "\n",
    "    # let's compute and add in the sales\n",
    "    for j in range(remaining_years_of_sales):\n",
    "        \n",
    "        # compute the future value of the selling price, unit cost, and cost of development for this year\n",
    "        list_price_fv = fv(unit_price_pv, unit_price_trend, year)\n",
    "        unit_cost_fv = fv(unit_cost_pv, unit_cost_trend, year)\n",
    "        development_cost_fte_fv = fv(development_fte_cost_pv, development_cost_trend, year)\n",
    "        \n",
    "        # compute the selling, general, and administrative expenses per unit\n",
    "        sga_fv = list_price_fv * sga_percentage\n",
    "\n",
    "        # compute the future value of this year\n",
    "        fv_year = 0\n",
    "        fv_year -= development_cost_fte_fv * maintenance_ftes\n",
    "        fv_year += yearly_unit_sales * list_price_fv\n",
    "        fv_year -= yearly_unit_sales * unit_cost_fv\n",
    "        fv_year -= yearly_unit_sales * sga_fv\n",
    "\n",
    "        # add the net to the npv\n",
    "        npv += pv(fv_year, market_return, year)\n",
    "\n",
    "        # move to the next year\n",
    "        year += 1\n",
    "\n",
    "    return npv\n"
   ]
  },
  {
   "cell_type": "markdown",
   "metadata": {},
   "source": [
    "Let's compute the NPV for our variables."
   ]
  },
  {
   "cell_type": "code",
   "execution_count": 193,
   "metadata": {},
   "outputs": [
    {
     "data": {
      "text/plain": [
       "2724999.9999999995"
      ]
     },
     "execution_count": 193,
     "metadata": {},
     "output_type": "execute_result"
    }
   ],
   "source": [
    "calculate_npv(remaining_development_years, development_ftes, maintenance_ftes, remaining_delay_years, unit_cost_pv, unit_price_pv, yearly_unit_sales, remaining_years_of_sales)"
   ]
  },
  {
   "cell_type": "markdown",
   "metadata": {},
   "source": [
    "# Ranges\n",
    "Our product parameters always have some uncertainty. For example, suppose we wanted to specifiy our yearly unit sales not simply as 100, but rather as a number that could be anywhere from 80 to 120, but most likely around 100. We can define a triangluar distribution of numbers, generate 1000 samples of this distribution, and plot what it looks like. Feel free to change the variables and run this again."
   ]
  },
  {
   "cell_type": "code",
   "execution_count": 194,
   "metadata": {},
   "outputs": [
    {
     "data": {
      "image/png": "[encoded data removed]",
      "text/plain": [
       "<Figure size 640x480 with 1 Axes>"
      ]
     },
     "metadata": {},
     "output_type": "display_data"
    }
   ],
   "source": [
    "sales = np.random.triangular(80, 100, 120, size=1000)\n",
    "plt.hist(sales, bins=20)\n",
    "plt.show()"
   ]
  },
  {
   "cell_type": "markdown",
   "metadata": {},
   "source": [
    "# Product Variable Ranges\n",
    "So let's redefine all our product parameters as distributions.\n",
    "\n",
    "Then, we will generate a single random value for each product parameter and compute one NPV.\n",
    "\n",
    "Each time we call this function, it will return a different NPV based upon the random product parameters generated."
   ]
  },
  {
   "cell_type": "code",
   "execution_count": 195,
   "metadata": {},
   "outputs": [],
   "source": [
    "def simulate_npv():\n",
    "\n",
    "    # the number of people (full time equivalents) on the development team\n",
    "    development_ftes = np.random.triangular(4, 5, 6)\n",
    "\n",
    "    # the number of years remaining to develop the product\n",
    "    remaining_development_years = round(np.random.triangular(3, 4, 5))\n",
    "\n",
    "    # the number of remaining years after development that the product will be sold\n",
    "    remaining_delay_years = round(np.random.triangular(0, 1, 2))\n",
    "\n",
    "    # the number of people that need to keep working on the product after development\n",
    "    maintenance_ftes = np.random.triangular(0, 0.5, 1)\n",
    "\n",
    "    # the cost to manufacture one unit of the product (in present dollars)\n",
    "    unit_cost_pv = np.random.triangular(8000, 10000, 12000)\n",
    "\n",
    "    # the selling price of the product (in present dollars)\n",
    "    unit_price_pv = np.random.triangular(16000, 20000, 24000)\n",
    "\n",
    "    # the number of units that are expected to be sold per year\n",
    "    yearly_unit_sales = np.random.triangular(80, 100, 120)\n",
    "\n",
    "    # the number of years that the product is expected to be sold\n",
    "    remaining_years_of_sales = round(np.random.triangular(8, 10, 12))\n",
    "\n",
    "    npv = calculate_npv(remaining_development_years, development_ftes, maintenance_ftes, remaining_delay_years, unit_cost_pv, unit_price_pv, yearly_unit_sales, remaining_years_of_sales)\n",
    "    \n",
    "    return npv"
   ]
  },
  {
   "cell_type": "markdown",
   "metadata": {},
   "source": [
    "Let's try it a few times. Feel free to press the run botton on the left to generate another three runs."
   ]
  },
  {
   "cell_type": "code",
   "execution_count": 196,
   "metadata": {},
   "outputs": [
    {
     "name": "stdout",
     "output_type": "stream",
     "text": [
      "1765050.7152579445\n",
      "2823047.736312064\n",
      "2268111.060455222\n"
     ]
    }
   ],
   "source": [
    "print(simulate_npv())\n",
    "print(simulate_npv())\n",
    "print(simulate_npv())"
   ]
  },
  {
   "cell_type": "markdown",
   "metadata": {},
   "source": [
    "# Monte Carlo Simulation\n",
    "It is hard to make sense of running the simulation three times. But we can run it 10000 times and plot the result like this. Each time you run this, the plot looks slighty different, but the general shape and midpoint are the same. Feel free to try running 80000 simulations to see if that helps stabilize the results."
   ]
  },
  {
   "cell_type": "code",
   "execution_count": 197,
   "metadata": {},
   "outputs": [
    {
     "data": {
      "image/png": "[encoded data removed]",
      "text/plain": [
       "<Figure size 640x480 with 1 Axes>"
      ]
     },
     "metadata": {},
     "output_type": "display_data"
    }
   ],
   "source": [
    "npvs = []\n",
    "\n",
    "for i in range(10000):\n",
    "    npv = simulate_npv()\n",
    "    npvs.append(npv)\n",
    "\n",
    "plt.hist(npvs, bins=30)\n",
    "plt.xlabel('NPV')\n",
    "plt.ticklabel_format(style='plain', axis='x')\n",
    "plt.show()"
   ]
  },
  {
   "cell_type": "markdown",
   "metadata": {},
   "source": [
    "# Interrelated Product Variables\n",
    "It may be more accurate to define the range of unit price as a function of unit cost.\n",
    "\n",
    "For example, let's define price to be 2 times the cost, but allow  it to range from 1.9 to 2.1 times the cost. We can do it this way."
   ]
  },
  {
   "cell_type": "code",
   "execution_count": 198,
   "metadata": {},
   "outputs": [
    {
     "data": {
      "text/plain": [
       "20059.820563609213"
      ]
     },
     "execution_count": 198,
     "metadata": {},
     "output_type": "execute_result"
    }
   ],
   "source": [
    "np.random.triangular(unit_cost_pv * 1.9, unit_cost_pv * 2, unit_cost_pv * 2.1)"
   ]
  },
  {
   "cell_type": "markdown",
   "metadata": {},
   "source": [
    "It is a bit more complicated, but we can make yearly unit sales a function of unit price.\n",
    "\n",
    "For example, let's define sales to be exactly 120 if the selling price is 16000 and exactly 80 if the price is 24000 and interpolate values inbetween."
   ]
  },
  {
   "cell_type": "code",
   "execution_count": 199,
   "metadata": {},
   "outputs": [
    {
     "name": "stdout",
     "output_type": "stream",
     "text": [
      "120.0\n",
      "80.0\n",
      "100.0\n"
     ]
    }
   ],
   "source": [
    "price_range = np.array([16000, 24000])\n",
    "sales_range = np.array([120, 80])\n",
    "print(np.interp(16000, price_range, sales_range))\n",
    "print(np.interp(24000, price_range, sales_range))\n",
    "print(np.interp(20000, price_range, sales_range))"
   ]
  },
  {
   "cell_type": "markdown",
   "metadata": {},
   "source": [
    "Let's make it a bit more complicated and have the interpolated sales vary by 10%"
   ]
  },
  {
   "cell_type": "code",
   "execution_count": 200,
   "metadata": {},
   "outputs": [
    {
     "data": {
      "text/plain": [
       "100.44753253709227"
      ]
     },
     "execution_count": 200,
     "metadata": {},
     "output_type": "execute_result"
    }
   ],
   "source": [
    "exact_sales = np.interp(20000, price_range, sales_range)\n",
    "np.random.triangular(exact_sales * 0.9, exact_sales, exact_sales * 1.1)"
   ]
  },
  {
   "cell_type": "markdown",
   "metadata": {},
   "source": [
    "Now putting it all together."
   ]
  },
  {
   "cell_type": "code",
   "execution_count": 201,
   "metadata": {},
   "outputs": [],
   "source": [
    "def simulate_npv_v2():\n",
    "\n",
    "    # the number of people (full time equivalents) on the development team\n",
    "    development_ftes = np.random.triangular(4, 5, 6)\n",
    "\n",
    "    # the number of years remaining to develop the product\n",
    "    remaining_development_years = round(np.random.triangular(3, 4, 5))\n",
    "\n",
    "    # the number of remaining years after development that the product will be sold\n",
    "    remaining_delay_years = round(np.random.triangular(0, 1, 2))\n",
    "\n",
    "    # the number of people that need to keep working on the product after development\n",
    "    maintenance_ftes = np.random.triangular(0, 0.5, 1)\n",
    "\n",
    "    # the cost to manufacture one unit of the product (in present dollars)\n",
    "    unit_cost_pv = np.random.triangular(8000, 10000, 12000)\n",
    "\n",
    "    # the selling price of the product (in present dollars)\n",
    "    unit_price_pv = np.random.triangular(unit_cost_pv * 1.9, unit_cost_pv * 2, unit_cost_pv * 2.1)\n",
    "\n",
    "    # the number of units that are expected to be sold per year\n",
    "    price_range = np.array([16000, 24000])\n",
    "    sales_range = np.array([120, 80])\n",
    "    exact_sales = np.interp(20000, price_range, sales_range)\n",
    "    yearly_unit_sales = np.random.triangular(exact_sales * 0.9, exact_sales, exact_sales * 1.1)\n",
    "\n",
    "    # the number of years that the product is expected to be sold\n",
    "    remaining_years_of_sales = round(np.random.triangular(8, 10, 12))\n",
    "\n",
    "    npv = calculate_npv(remaining_development_years, development_ftes, maintenance_ftes, remaining_delay_years, unit_cost_pv, unit_price_pv, yearly_unit_sales, remaining_years_of_sales)\n",
    "    \n",
    "    return npv"
   ]
  },
  {
   "cell_type": "markdown",
   "metadata": {},
   "source": [
    "Let's run a Monte Carlo simulation with this new version. Compare this with the previous results and you can see the spreat of possibilities is now much less."
   ]
  },
  {
   "cell_type": "code",
   "execution_count": 202,
   "metadata": {},
   "outputs": [
    {
     "data": {
      "image/png": "[encoded data removed]",
      "text/plain": [
       "<Figure size 640x480 with 1 Axes>"
      ]
     },
     "metadata": {},
     "output_type": "display_data"
    }
   ],
   "source": [
    "npvs = []\n",
    "\n",
    "for i in range(10000):\n",
    "    npv = simulate_npv_v2()\n",
    "    npvs.append(npv)\n",
    "\n",
    "plt.hist(npvs, bins=30)\n",
    "plt.xlabel('NPV')\n",
    "plt.ticklabel_format(style='plain', axis='x')\n",
    "plt.show()"
   ]
  }
 ],
 "metadata": {
  "kernelspec": {
   "display_name": "base",
   "language": "python",
   "name": "python3"
  },
  "language_info": {
   "codemirror_mode": {
    "name": "ipython",
    "version": 3
   },
   "file_extension": ".py",
   "mimetype": "text/x-python",
   "name": "python",
   "nbconvert_exporter": "python",
   "pygments_lexer": "ipython3",
   "version": "3.11.5"
  }
 },
 "nbformat": 4,
 "nbformat_minor": 2
}
