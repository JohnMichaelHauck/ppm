{
 "cells": [
  {
   "cell_type": "markdown",
   "metadata": {},
   "source": [
    "# Getting Started\n",
    "This document shows how to compute the net present value (NPV) for a project"
   ]
  },
  {
   "cell_type": "markdown",
   "metadata": {},
   "source": [
    "Let's get things started by importing a few things we need."
   ]
  },
  {
   "cell_type": "code",
   "execution_count": 1,
   "metadata": {},
   "outputs": [],
   "source": [
    "import numpy as np\n",
    "import matplotlib.pyplot as plt"
   ]
  },
  {
   "cell_type": "markdown",
   "metadata": {},
   "source": [
    "Now let's define a present value function and a future value function"
   ]
  },
  {
   "cell_type": "code",
   "execution_count": 2,
   "metadata": {},
   "outputs": [],
   "source": [
    "def pv(future_value, rate, periods):\n",
    "    return future_value / (1 + rate) ** periods\n",
    "\n",
    "def fv(present_value, rate, periods):\n",
    "    return present_value * (1 + rate) ** periods"
   ]
  },
  {
   "cell_type": "markdown",
   "metadata": {},
   "source": [
    "For example, what is the future value of $100 at a rate of 3% per year after 5.4 years?"
   ]
  },
  {
   "cell_type": "code",
   "execution_count": 3,
   "metadata": {},
   "outputs": [
    {
     "data": {
      "text/plain": [
       "117.30621265790838"
      ]
     },
     "execution_count": 3,
     "metadata": {},
     "output_type": "execute_result"
    }
   ],
   "source": [
    "fv(100, 0.03, 5.4)"
   ]
  },
  {
   "cell_type": "markdown",
   "metadata": {},
   "source": [
    "# Company Constants\n",
    "Now let's define some global constants for our company"
   ]
  },
  {
   "cell_type": "code",
   "execution_count": 4,
   "metadata": {},
   "outputs": [],
   "source": [
    "# what we would expect to earn on an investment in a financial market with a similar risk\n",
    "market_return = 0.03\n",
    "\n",
    "# how much it costs per person to run a product development team (in present dollars)\n",
    "development_fte_cost_pv = 50000\n",
    "\n",
    "# how much the cost of development increases each year\n",
    "development_cost_trend = 0.03\n",
    "\n",
    "# how much the cost of a product increases each year\n",
    "unit_cost_trend = 0.03\n",
    "\n",
    "# how much the selling price of a product increases each year\n",
    "unit_price_trend = 0.03\n",
    "\n",
    "# the percentage of the selling price that is allocated to cover selling, general, and administrative expenses\n",
    "sga_percentage = 0.30"
   ]
  },
  {
   "cell_type": "markdown",
   "metadata": {},
   "source": [
    "So let's see how much it costs per person in a development team in three years from now."
   ]
  },
  {
   "cell_type": "code",
   "execution_count": 5,
   "metadata": {},
   "outputs": [
    {
     "data": {
      "text/plain": [
       "54636.35"
      ]
     },
     "execution_count": 5,
     "metadata": {},
     "output_type": "execute_result"
    }
   ],
   "source": [
    "fv(development_fte_cost_pv, development_cost_trend, 3)"
   ]
  },
  {
   "cell_type": "markdown",
   "metadata": {},
   "source": [
    "# Project Variables\n",
    "Now let's define some more variables that describe our project"
   ]
  },
  {
   "cell_type": "code",
   "execution_count": 6,
   "metadata": {},
   "outputs": [],
   "source": [
    "# the number of people (full time equivalents) on the development team\n",
    "development_ftes = 5\n",
    "\n",
    "# the number of years remaining to develop the product\n",
    "remaining_development_years = 4\n",
    "\n",
    "# the number of remaining years after development that the product will be sold\n",
    "remaining_delay_years = 1\n",
    "\n",
    "# the number of people that need to keep working on the product after development\n",
    "maintenance_ftes = 0.5\n",
    "\n",
    "# the cost to manufacture one unit of the product (in present dollars)\n",
    "unit_cost_pv = 10000\n",
    "\n",
    "# the selling price of the product (in present dollars)\n",
    "unit_price_pv = 20000\n",
    "\n",
    "# the number of units that are expected to be sold per year\n",
    "yearly_unit_sales = 100\n",
    "\n",
    "# the number of years that the product is expected to be sold\n",
    "remaining_years_of_sales = 10"
   ]
  },
  {
   "cell_type": "markdown",
   "metadata": {},
   "source": [
    "# The NPV Calculation\n",
    "Now let's write a (big) function that calculates the net present value of the product given the variables above.\n",
    "\n",
    "We first run through the remaining development years and remove those costs from our NPV\n",
    "\n",
    "We then run through the remaining delay years, just removing maintenance costs from our NPV\n",
    "\n",
    "We then run through all the remaining years of product sales, adding in sales and removing costs"
   ]
  },
  {
   "cell_type": "markdown",
   "metadata": {},
   "source": []
  },
  {
   "cell_type": "code",
   "execution_count": 7,
   "metadata": {},
   "outputs": [],
   "source": [
    "def calculate_npv(remaining_development_years, development_ftes, maintenance_ftes, remaining_delay_years, unit_cost_pv, unit_price_pv, yearly_unit_sales, remaining_years_of_sales):\n",
    "\n",
    "    # this is what we will calculate and return \n",
    "    npv = 0\n",
    "\n",
    "    # starting at year zero (today)\n",
    "    year = 0\n",
    "\n",
    "    # let's compute the remaining product development costs, one year at a time\n",
    "    for _ in range(remaining_development_years):\n",
    "\n",
    "        # compute the future value of the cost of development for this year\n",
    "        development_cost_fte_fv = fv(development_fte_cost_pv, development_cost_trend, year)\n",
    "\n",
    "        # compute the future value of this year\n",
    "        fv_year = -development_cost_fte_fv * development_ftes\n",
    "\n",
    "        # add the cost of development from the npv\n",
    "        npv += pv(fv_year, market_return, year)\n",
    "\n",
    "        # move to the next year\n",
    "        year += 1\n",
    "\n",
    "    # let's compute and add in the cost of delay\n",
    "    for _ in range(remaining_delay_years):\n",
    "\n",
    "        # compute the future value of the cost of development for this year\n",
    "        development_cost_fte_fv = fv(development_fte_cost_pv, development_cost_trend, year)\n",
    "\n",
    "        # compute the future value of this year\n",
    "        fv_year = -development_cost_fte_fv * maintenance_ftes\n",
    "\n",
    "        # add the cost of development from the npv\n",
    "        npv += pv(fv_year, market_return, year)\n",
    "\n",
    "        # move to the next year\n",
    "        year += 1\n",
    "\n",
    "\n",
    "    # let's compute and add in the sales\n",
    "    for j in range(remaining_years_of_sales):\n",
    "        \n",
    "        # compute the future value of the selling price, unit cost, and cost of development for this year\n",
    "        list_price_fv = fv(unit_price_pv, unit_price_trend, year)\n",
    "        unit_cost_fv = fv(unit_cost_pv, unit_cost_trend, year)\n",
    "        development_cost_fte_fv = fv(development_fte_cost_pv, development_cost_trend, year)\n",
    "        \n",
    "        # compute the selling, general, and administrative expenses per unit\n",
    "        sga_fv = list_price_fv * sga_percentage\n",
    "\n",
    "        # compute the future value of this year\n",
    "        fv_year = -development_cost_fte_fv * maintenance_ftes\n",
    "        fv_year += yearly_unit_sales * list_price_fv\n",
    "        fv_year -= yearly_unit_sales * unit_cost_fv\n",
    "        fv_year -= yearly_unit_sales * sga_fv\n",
    "\n",
    "        # add the profit from sales to the npv\n",
    "        npv += pv(fv_year, market_return, year)\n",
    "\n",
    "        # move to the next year\n",
    "        year += 1\n",
    "\n",
    "    return npv\n"
   ]
  },
  {
   "cell_type": "markdown",
   "metadata": {},
   "source": [
    "Let's compute the NPV for our variables."
   ]
  },
  {
   "cell_type": "code",
   "execution_count": 8,
   "metadata": {},
   "outputs": [
    {
     "data": {
      "text/plain": [
       "2724999.9999999995"
      ]
     },
     "execution_count": 8,
     "metadata": {},
     "output_type": "execute_result"
    }
   ],
   "source": [
    "calculate_npv(remaining_development_years, development_ftes, maintenance_ftes, remaining_delay_years, unit_cost_pv, unit_price_pv, yearly_unit_sales, remaining_years_of_sales)"
   ]
  },
  {
   "cell_type": "markdown",
   "metadata": {},
   "source": [
    "# Ranges\n",
    "Our product parameters always have some uncertainty. For example, suppose we wanted to specifiy our yearly unit sales not simply as 100, but rather as a number that could be anywhere from 80 to 120, but most likely around 100. We can define a triangluar distribution of numbers, generate 1000 samples of this distribution, and plot what it looks like."
   ]
  },
  {
   "cell_type": "code",
   "execution_count": 9,
   "metadata": {},
   "outputs": [
    {
     "data": {
      "image/png": "[encoded data removed]",
      "text/plain": [
       "<Figure size 640x480 with 1 Axes>"
      ]
     },
     "metadata": {},
     "output_type": "display_data"
    }
   ],
   "source": [
    "sales = np.random.triangular(80, 100, 120, size=1000)\n",
    "plt.hist(sales, bins=20)\n",
    "plt.show()"
   ]
  },
  {
   "cell_type": "markdown",
   "metadata": {},
   "source": [
    "# Product Variable Ranges\n",
    "So let's redefine all our product parameters as distributions.\n",
    "\n",
    "Then, we will generate a single random value for each product parameter and compute one NPV.\n",
    "\n",
    "Each time we call this function, it will return a different NPV based upon the random product parameters generated."
   ]
  },
  {
   "cell_type": "code",
   "execution_count": 10,
   "metadata": {},
   "outputs": [],
   "source": [
    "def simulate_npv():\n",
    "\n",
    "    # the number of people (full time equivalents) on the development team\n",
    "    development_ftes = np.random.triangular(4, 5, 6)\n",
    "\n",
    "    # the number of years remaining to develop the product\n",
    "    remaining_development_years = round(np.random.triangular(3, 4, 5))\n",
    "\n",
    "    # the number of remaining years after development that the product will be sold\n",
    "    remaining_delay_years = round(np.random.triangular(0, 1, 2))\n",
    "\n",
    "    # the number of people that need to keep working on the product after development\n",
    "    maintenance_ftes = np.random.triangular(0, 0.5, 1)\n",
    "\n",
    "    # the cost to manufacture one unit of the product (in present dollars)\n",
    "    unit_cost_pv = np.random.triangular(8000, 10000, 12000)\n",
    "\n",
    "    # the selling price of the product (in present dollars)\n",
    "    unit_price_pv = np.random.triangular(16000, 20000, 24000)\n",
    "\n",
    "    # the number of units that are expected to be sold per year\n",
    "    yearly_unit_sales = np.random.triangular(80, 100, 120)\n",
    "\n",
    "    # the number of years that the product is expected to be sold\n",
    "    remaining_years_of_sales = round(np.random.triangular(8, 10, 12))\n",
    "\n",
    "    npv = calculate_npv(remaining_development_years, development_ftes, maintenance_ftes, remaining_delay_years, unit_cost_pv, unit_price_pv, yearly_unit_sales, remaining_years_of_sales)\n",
    "    \n",
    "    return npv"
   ]
  },
  {
   "cell_type": "markdown",
   "metadata": {},
   "source": [
    "Let's try it a few times."
   ]
  },
  {
   "cell_type": "code",
   "execution_count": 11,
   "metadata": {},
   "outputs": [
    {
     "name": "stdout",
     "output_type": "stream",
     "text": [
      "4390091.144295314\n",
      "-826870.0143721921\n",
      "2621154.6013724967\n"
     ]
    }
   ],
   "source": [
    "print(simulate_npv())\n",
    "print(simulate_npv())\n",
    "print(simulate_npv())"
   ]
  },
  {
   "cell_type": "markdown",
   "metadata": {},
   "source": [
    "# Monte Carlo Simulation\n",
    "Now it is hard to make sense of running the simulation three times. But we can run it 10000 times and plot the result like this."
   ]
  },
  {
   "cell_type": "code",
   "execution_count": 12,
   "metadata": {},
   "outputs": [
    {
     "data": {
      "image/png": "[encoded data removed]",
      "text/plain": [
       "<Figure size 640x480 with 1 Axes>"
      ]
     },
     "metadata": {},
     "output_type": "display_data"
    }
   ],
   "source": [
    "npvs = []\n",
    "\n",
    "for i in range(10000):\n",
    "    npv = simulate_npv()\n",
    "    npvs.append(npv)\n",
    "\n",
    "plt.hist(npvs, bins=30)\n",
    "plt.xlabel('NPV')\n",
    "plt.ticklabel_format(style='plain', axis='x')\n",
    "plt.show()"
   ]
  }
 ],
 "metadata": {
  "kernelspec": {
   "display_name": "base",
   "language": "python",
   "name": "python3"
  },
  "language_info": {
   "codemirror_mode": {
    "name": "ipython",
    "version": 3
   },
   "file_extension": ".py",
   "mimetype": "text/x-python",
   "name": "python",
   "nbconvert_exporter": "python",
   "pygments_lexer": "ipython3",
   "version": "3.11.5"
  }
 },
 "nbformat": 4,
 "nbformat_minor": 2
}
