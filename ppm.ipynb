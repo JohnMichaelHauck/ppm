{
 "cells": [
  {
   "cell_type": "markdown",
   "metadata": {},
   "source": [
    "# TL;DR - Jump to the end!"
   ]
  },
  {
   "cell_type": "markdown",
   "metadata": {},
   "source": [
    "Feel free to scoll down to the last section of this notebook called \"Monte Carlo Results\"."
   ]
  },
  {
   "cell_type": "markdown",
   "metadata": {},
   "source": [
    "# This Notebook is Interactive"
   ]
  },
  {
   "cell_type": "markdown",
   "metadata": {},
   "source": [
    "You can just scroll through this notebook and read it as is. But this is also an interactive notebook, where you can change some of the source code to see what happens. To get ready to do that, pick \"Run all\" from the \"Runtime\" menu now (and accept the security warning). You only need to do this once each time you open this notebook. Then, go ahead and change the code as you see fit and press the triangle to the left of the code to run it."
   ]
  },
  {
   "cell_type": "markdown",
   "metadata": {},
   "source": [
    "# Net Present Value"
   ]
  },
  {
   "cell_type": "markdown",
   "metadata": {},
   "source": [
    "This notebook shows how to compute the net present value for a product based on best estimates for a variety of inputs.\n",
    "\n",
    "Formally, net present value (NPV) is the difference between the present value of cash inflows (like sales) and the present value of cash outflows (like development or cost of goods) over a period of time. NPV is used in capital budgeting and investment planning to analyze the profitability of a project. In general, projects with a positive NPV are worth undertaking, while those with a negative NPV are not."
   ]
  },
  {
   "cell_type": "markdown",
   "metadata": {},
   "source": [
    "Let's start by defining a present value function and a future value function."
   ]
  },
  {
   "cell_type": "code",
   "execution_count": 3,
   "metadata": {},
   "outputs": [],
   "source": [
    "def pv(future_value, rate, periods):\n",
    "    return future_value / (1 + rate) ** periods\n",
    "\n",
    "def fv(present_value, rate, periods):\n",
    "    return present_value * (1 + rate) ** periods"
   ]
  },
  {
   "cell_type": "markdown",
   "metadata": {},
   "source": [
    "Here we compute the future value of 100 at a rate of 3% per year after 5.4 years. Feel free to change the values and press the run button to the left of the code. Remember, if you see an error, make sure to pick \"Run all\" from the \"Runtime\" menu each time you open this notebook."
   ]
  },
  {
   "cell_type": "code",
   "execution_count": 4,
   "metadata": {},
   "outputs": [
    {
     "data": {
      "text/plain": [
       "117.30621265790838"
      ]
     },
     "execution_count": 4,
     "metadata": {},
     "output_type": "execute_result"
    }
   ],
   "source": [
    "fv(100, 0.03, 5.4)"
   ]
  },
  {
   "cell_type": "markdown",
   "metadata": {},
   "source": [
    "# Company Constants\n",
    "Now let's define some global constants for our company that will be used to compute NPV."
   ]
  },
  {
   "cell_type": "code",
   "execution_count": 5,
   "metadata": {},
   "outputs": [],
   "source": [
    "# Company Constants (user input)\n",
    "class CompanyConstants:\n",
    "    def __init__(self,\n",
    "                 market_return = 0.03,\n",
    "                 yearly_development_fte_cost_pv = 50000,\n",
    "                 inflation = 0.03,\n",
    "                 sga_percentage = 0.30):\n",
    "        \n",
    "        # what we would expect to earn on an investment in a financial market with a similar risk\n",
    "        self.market_return = market_return\n",
    "        \n",
    "        # how much it costs per person to run a product development team (in present dollars)\n",
    "        self.yearly_development_fte_cost_pv = yearly_development_fte_cost_pv\n",
    "        \n",
    "        # how much costs increase each year\n",
    "        self.inflation = inflation\n",
    "\n",
    "        # the percentage of the selling price that is allocated to cover selling, general, and administrative expenses        \n",
    "        self.sga_percentage = sga_percentage\n",
    "\n",
    "company_constants = CompanyConstants()"
   ]
  },
  {
   "cell_type": "markdown",
   "metadata": {},
   "source": [
    "So let's see how much it costs per person of a development team in three years from now."
   ]
  },
  {
   "cell_type": "code",
   "execution_count": 6,
   "metadata": {},
   "outputs": [
    {
     "data": {
      "text/plain": [
       "54636.35"
      ]
     },
     "execution_count": 6,
     "metadata": {},
     "output_type": "execute_result"
    }
   ],
   "source": [
    "fv(company_constants.yearly_development_fte_cost_pv, company_constants.inflation, 3)"
   ]
  },
  {
   "cell_type": "markdown",
   "metadata": {},
   "source": [
    "# Trianglular Ranges"
   ]
  },
  {
   "cell_type": "markdown",
   "metadata": {},
   "source": [
    "Some of our parameters may have some uncertainty. For example, suppose we wanted to specify our unit cost not simply as 9000, but rather as a number that could be anywhere from 8000 to 12000, but most likely around 9000. We can define a triangular distribution of numbers, generate 1000 samples of this distribution, and plot what it looks like. Feel free to change the variables and run this again. Notice the three corresponding numbers in the brackets: \"[8000, 9000, 12000]\"."
   ]
  },
  {
   "cell_type": "code",
   "execution_count": 7,
   "metadata": {},
   "outputs": [
    {
     "data": {
      "image/png": "[encoded data removed]",
      "text/plain": [
       "<Figure size 640x480 with 1 Axes>"
      ]
     },
     "metadata": {},
     "output_type": "display_data"
    }
   ],
   "source": [
    "import numpy as np # linear algebra library\n",
    "import matplotlib.pyplot as plt # plotting library\n",
    "\n",
    "a = [8000, 9000, 12000]\n",
    "sales = np.random.triangular(a[0], a[1], a[2], size=10000)\n",
    "plt.hist(sales, bins=20)\n",
    "plt.show()"
   ]
  },
  {
   "cell_type": "markdown",
   "metadata": {},
   "source": [
    "# Product Variables Ranges"
   ]
  },
  {
   "cell_type": "markdown",
   "metadata": {},
   "source": [
    "Now let's define the variables that describe our product. Some are single values, other have ranges, and some are dependent on others. As for ranges, they are specified by three numbers in brackets like this [3, 4, 5]. In this case, we expect the value to most likely be close to 4, with a range from 3 to 5."
   ]
  },
  {
   "cell_type": "code",
   "execution_count": 8,
   "metadata": {},
   "outputs": [],
   "source": [
    "# Return the value of a range, or a single value if it is not a range\n",
    "def safe_index(range, i):\n",
    "    if isinstance(range, (int, float)):\n",
    "        return range\n",
    "    return range[i]\n",
    "\n",
    "# Product Variables Ranges (user input)\n",
    "class ProductVariablesRanges:\n",
    "    def __init__(self,\n",
    "                 years_before_development = 1.5,\n",
    "                 years_of_development_growth = 0,\n",
    "                 years_of_development_maturity = [3, 4, 5],\n",
    "                 years_of_development_decline = 0,\n",
    "                 years_before_sales = 0,\n",
    "                 years_of_sales_growth = 0,\n",
    "                 years_of_sales_maturity = [8, 10, 12],\n",
    "                 years_of_sales_decline = 0,\n",
    "                 development_ftes = [4, 5, 6],\n",
    "                 maintenance_ftes = [0, 0.5, 1],\n",
    "                 unit_cost_pv = [8000, 9000, 12000],\n",
    "                 unit_price_cost_factor = [1.9, 2.0, 2.1],\n",
    "                 yearly_unit_sales_lowest_price = [110, 120, 150],\n",
    "                 yearly_unit_sales_highest_price = [80, 90, 120]):\n",
    "        \n",
    "        # development years profile\n",
    "        self.years_before_development = years_before_development\n",
    "        self.years_of_development_growth = years_of_development_growth\n",
    "        self.years_of_development_maturity = years_of_development_maturity\n",
    "        self.years_of_development_decline = years_of_development_decline\n",
    "\n",
    "        # sales years profile\n",
    "        self.years_before_sales = years_before_sales\n",
    "        self.years_of_sales_growth = years_of_sales_growth\n",
    "        self.years_of_sales_maturity = years_of_sales_maturity\n",
    "        self.years_of_sales_decline = years_of_sales_decline\n",
    "        \n",
    "        # the number of people (full time equivalents) on the development team\n",
    "        self.development_ftes = development_ftes\n",
    "\n",
    "        # the number of people that need to keep working on the product after development\n",
    "        self.maintenance_ftes = maintenance_ftes\n",
    "        \n",
    "        # the cost to manufacture one unit of the product (in present dollars)\n",
    "        self.unit_cost_pv = unit_cost_pv\n",
    "        \n",
    "        # the selling price cost factors to compute the price of the product (in present dollars)\n",
    "        self.unit_price_cost_factor = unit_price_cost_factor\n",
    "\n",
    "        # the number of units that are expected to be sold per year\n",
    "        self.yearly_unit_sales_lowest_price = yearly_unit_sales_lowest_price\n",
    "        self.yearly_unit_sales_highest_price = yearly_unit_sales_highest_price\n",
    "\n",
    "    def lowest_price(self):\n",
    "        return safe_index(self.unit_cost_pv, 0) * safe_index(self.unit_price_cost_factor, 0)\n",
    "    \n",
    "    def highest_price(self):\n",
    "        return safe_index(self.unit_cost_pv, 2) * safe_index(self.unit_price_cost_factor, 2)\n",
    "\n",
    "product_variables_ranges = ProductVariablesRanges()"
   ]
  },
  {
   "cell_type": "markdown",
   "metadata": {},
   "source": [
    "This is how we can view the range of unit cost."
   ]
  },
  {
   "cell_type": "code",
   "execution_count": 9,
   "metadata": {},
   "outputs": [
    {
     "data": {
      "text/plain": [
       "[8000, 9000, 12000]"
      ]
     },
     "execution_count": 9,
     "metadata": {},
     "output_type": "execute_result"
    }
   ],
   "source": [
    "product_variables_ranges.unit_cost_pv"
   ]
  },
  {
   "cell_type": "markdown",
   "metadata": {},
   "source": [
    "We also added some functions to compute the range of the lowest and highest price."
   ]
  },
  {
   "cell_type": "code",
   "execution_count": 10,
   "metadata": {},
   "outputs": [
    {
     "name": "stdout",
     "output_type": "stream",
     "text": [
      "15200.0\n",
      "25200.0\n"
     ]
    }
   ],
   "source": [
    "print(product_variables_ranges.lowest_price())\n",
    "print(product_variables_ranges.highest_price())"
   ]
  },
  {
   "cell_type": "markdown",
   "metadata": {},
   "source": [
    "# Triangle Ranges (again)"
   ]
  },
  {
   "cell_type": "markdown",
   "metadata": {},
   "source": [
    "Here is a more complex triangle random number generator. It takes a flag (\"expected\") indicating whether or not it should simply return the expected value instead of a random value in the range. That will come in handy later. Also, if you provide this function with a single number, then it will just return that single number."
   ]
  },
  {
   "cell_type": "code",
   "execution_count": 11,
   "metadata": {},
   "outputs": [],
   "source": [
    "# Return a single random number, given a low, expected, and high range, using a triangular distribution\n",
    "# Just return the expected number if requested, or if the range is invalid\n",
    "def triangle(a, just_expected = False):\n",
    "\n",
    "    # if a is a single number, return it\n",
    "    if isinstance(a, (int, float)):\n",
    "        return a\n",
    "\n",
    "    # if the range is invalid, return the likely (middle) value\n",
    "    if(a[0] > a[1] or a[1] > a[2] or a[0] >= a[2]):\n",
    "        return a[1]\n",
    "    \n",
    "    # if requested, just return the likely (middle) value\n",
    "    if (just_expected):\n",
    "        return a[1]\n",
    "    \n",
    "    # return a random number, given a low, likely, and high range, using a triangular distribution\n",
    "    return np.random.triangular(a[0], a[1], a[2])"
   ]
  },
  {
   "cell_type": "markdown",
   "metadata": {},
   "source": [
    "This is how we can use the triangle function to generate a random number for unit cost, or just the expected cost. Feel free to run this code multiple times."
   ]
  },
  {
   "cell_type": "code",
   "execution_count": 12,
   "metadata": {},
   "outputs": [
    {
     "name": "stdout",
     "output_type": "stream",
     "text": [
      "100\n",
      "241.34777385036062\n",
      "200\n",
      "8892.579078702518\n",
      "9000\n"
     ]
    }
   ],
   "source": [
    "print(triangle(100))\n",
    "print(triangle([100, 200, 300]))\n",
    "print(triangle([100, 200, 300], True))\n",
    "print(triangle(product_variables_ranges.unit_cost_pv))\n",
    "print(triangle(product_variables_ranges.unit_cost_pv, True))"
   ]
  },
  {
   "cell_type": "markdown",
   "metadata": {},
   "source": [
    "So let's plot the range of unit costs using the random number generator."
   ]
  },
  {
   "cell_type": "code",
   "execution_count": 13,
   "metadata": {},
   "outputs": [
    {
     "data": {
      "image/png": "[encoded data removed]",
      "text/plain": [
       "<Figure size 640x480 with 1 Axes>"
      ]
     },
     "metadata": {},
     "output_type": "display_data"
    }
   ],
   "source": [
    "plt.hist([triangle(product_variables_ranges.unit_cost_pv) for _ in range(10000)], bins=20)\n",
    "plt.show()"
   ]
  },
  {
   "cell_type": "markdown",
   "metadata": {},
   "source": [
    "Let's do it again, but with setting just_expected to True."
   ]
  },
  {
   "cell_type": "code",
   "execution_count": 14,
   "metadata": {},
   "outputs": [
    {
     "data": {
      "image/png": "[encoded data removed]",
      "text/plain": [
       "<Figure size 640x480 with 1 Axes>"
      ]
     },
     "metadata": {},
     "output_type": "display_data"
    }
   ],
   "source": [
    "plt.hist([triangle(product_variables_ranges.unit_cost_pv, True) for _ in range(10000)], bins=20)\n",
    "plt.show()"
   ]
  },
  {
   "cell_type": "markdown",
   "metadata": {},
   "source": [
    "# Tornado Chart"
   ]
  },
  {
   "cell_type": "markdown",
   "metadata": {},
   "source": [
    "A tornado chart is a chart that shows the range of NPV due to a single product variable. It is a stacked horizontal bar chart with the variable that creates the most variance of NPV at the top, and the least at the bottom. To create a tornado chart, we need the random number generator to vary just one product variable at a time (and use the expected value for all the rest). Here are the variables for which we want to compute a range and then place in our tornado chart."
   ]
  },
  {
   "cell_type": "code",
   "execution_count": 15,
   "metadata": {},
   "outputs": [],
   "source": [
    "from enum import Enum\n",
    "\n",
    "# Used to lock in all but one variable when computing a tornado sensitivity analysis\n",
    "class Tornado(Enum):\n",
    "    OFF = 0\n",
    "    Dev_Ftes = 1\n",
    "    Dev_Years = 2\n",
    "    Maint_Ftes = 3\n",
    "    Sales_Years = 4\n",
    "    Unit_Cost = 5\n",
    "    Margin = 6\n",
    "    Yearly_Sales = 7"
   ]
  },
  {
   "cell_type": "markdown",
   "metadata": {},
   "source": [
    "Here is an example of what the tornado chart will look like."
   ]
  },
  {
   "cell_type": "code",
   "execution_count": 16,
   "metadata": {},
   "outputs": [
    {
     "data": {
      "image/png": "[encoded data removed]",
      "text/plain": [
       "<Figure size 640x480 with 1 Axes>"
      ]
     },
     "metadata": {},
     "output_type": "display_data"
    }
   ],
   "source": [
    "names = ['Dev FTEs', 'Maint FTEs', 'Dev Years', 'Unit Cost', 'Margin', 'Yearly Sales', 'Sales Years']\n",
    "ranges = [0.4, 0.5, 0.6, 0.8, 1.2, 1.3, 1.5]\n",
    "min_values = [2.6, 2.6, 2.7, 2.6, 2.1, 2.6, 2.0]\n",
    "plt.barh(names, ranges, left=min_values)\n",
    "plt.show()"
   ]
  },
  {
   "cell_type": "markdown",
   "metadata": {},
   "source": [
    "# Product Variables Snapshot"
   ]
  },
  {
   "cell_type": "markdown",
   "metadata": {},
   "source": [
    "This creates a snapshot of all the product variables, given their ranges. That is, for every range in product_variables_ranges, we will generate a single random variable (with the same name). If a tornado sensitivity analysis is being computed then we will only generate a single random variable to just the range specified, and use the most likely value for the rest of the ranges. The results are returned in a new variable we will call product_variable_snapshot, and the original product_variables_ranges is unchanged.\n",
    "\n",
    "Notice that unit_price_pv is not independatly random, but rather depends on unit_cost_pv and the unit_price_cost_factor.\n",
    "\n",
    "Also, the yearly_unit_sales is a function of price and an interpolation of the two extreeme estimates of yearly_unit_sales_lowest_price and yearly_unit_sales_highest_price."
   ]
  },
  {
   "cell_type": "code",
   "execution_count": 17,
   "metadata": {},
   "outputs": [],
   "source": [
    "# Create a snapshot of the product variables with random values\n",
    "class ProductVariablesSnapshot:\n",
    "    def __init__(self, product_variables_ranges, tornado = Tornado.OFF):\n",
    "        \n",
    "        # convert various ranges to actual values using a triangular distribution (or use the likely value if a tornado sensitivity analysis is being performed)\n",
    "        self.development_ftes = triangle(product_variables_ranges.development_ftes, tornado != Tornado.OFF and tornado != Tornado.Dev_Ftes)\n",
    "        self.years_before_development = triangle(product_variables_ranges.years_before_development)\n",
    "        self.years_of_development_growth = triangle(product_variables_ranges.years_of_development_growth)\n",
    "        self.years_of_development_maturity = triangle(product_variables_ranges.years_of_development_maturity, tornado != Tornado.OFF and tornado != Tornado.Dev_Years)\n",
    "        self.years_of_development_decline = triangle(product_variables_ranges.years_of_development_decline)\n",
    "        self.maintenance_ftes = triangle(product_variables_ranges.maintenance_ftes, tornado != Tornado.OFF and tornado != Tornado.Maint_Ftes)\n",
    "        self.years_before_sales = triangle(product_variables_ranges.years_before_sales)\n",
    "        self.years_of_sales_growth = triangle(product_variables_ranges.years_of_sales_growth)\n",
    "        self.years_of_sales_maturity = triangle(product_variables_ranges.years_of_sales_maturity, tornado != Tornado.OFF and tornado != Tornado.Sales_Years)\n",
    "        self.years_of_sales_decline = triangle(product_variables_ranges.years_of_sales_decline)\n",
    "        self.unit_cost_pv = triangle(product_variables_ranges.unit_cost_pv, tornado != Tornado.OFF and tornado != Tornado.Unit_Cost)\n",
    "        self.unit_price_cost_factor = triangle(product_variables_ranges.unit_price_cost_factor, tornado != Tornado.OFF and tornado != Tornado.Margin)\n",
    "\n",
    "        # some product variables are dependent on others, so we need to compute them\n",
    "\n",
    "        # compute the unit price\n",
    "        self.unit_price_pv = self.unit_cost_pv * self.unit_price_cost_factor\n",
    "\n",
    "        # interpolate the yearly unit sales range as a function of the unit price\n",
    "        price_range = np.array([product_variables_ranges.lowest_price(), product_variables_ranges.highest_price()])\n",
    "        yearly_unit_sales_range = [0, 0, 0]\n",
    "        for i in range(3):\n",
    "            sales_range_i = np.array([safe_index(product_variables_ranges.yearly_unit_sales_lowest_price, i), safe_index(product_variables_ranges.yearly_unit_sales_highest_price, i)])            \n",
    "            yearly_unit_sales_range[i] = np.interp(self.unit_price_pv, price_range, sales_range_i)\n",
    "        \n",
    "        # convert the sales range to an actual value using a triangular distribution\n",
    "        self.yearly_unit_sales = triangle(yearly_unit_sales_range, tornado != Tornado.OFF and tornado != Tornado.Yearly_Sales)\n",
    "\n",
    "        # precalculate the total remaining years\n",
    "        self.total_remaining_years = self.years_before_development + self.years_of_development_growth + self.years_of_development_maturity + self.years_of_development_decline + self.years_before_sales + self.years_of_sales_growth + self.years_of_sales_maturity + self.years_of_sales_decline\n",
    "\n",
    "    # compute the development full time equivalents for a given month\n",
    "    def development_ftes_this_month(self, month):\n",
    "        if month < self.years_before_development * 12:\n",
    "            return 0\n",
    "        month -= self.years_before_development * 12\n",
    "        if month < self.years_of_development_growth * 12:\n",
    "            return self.development_ftes * month / (self.years_of_development_growth * 12)\n",
    "        month -= self.years_of_development_growth * 12\n",
    "        if month < self.years_of_development_maturity * 12:\n",
    "            return self.development_ftes\n",
    "        month -= self.years_of_development_maturity * 12\n",
    "        if month < self.years_of_development_decline * 12:\n",
    "            return self.development_ftes * (1 - month / (self.years_of_development_decline * 12))\n",
    "        return self.maintenance_ftes\n",
    "    \n",
    "    # compute the unit sales for a given month\n",
    "    def unit_sales_this_month(self, month):\n",
    "        month -= self.years_before_development * 12\n",
    "        month -= self.years_of_development_growth * 12\n",
    "        month -= self.years_of_development_maturity * 12\n",
    "        month -= self.years_of_development_decline * 12\n",
    "        if month < self.years_before_sales * 12:\n",
    "            return 0\n",
    "        month -= self.years_before_sales * 12\n",
    "        if month < self.years_of_sales_growth * 12:\n",
    "            return self.yearly_unit_sales * month / (self.years_of_sales_growth * 12) / 12\n",
    "        month -= self.years_of_sales_growth * 12\n",
    "        if month < self.years_of_sales_maturity * 12:\n",
    "            return self.yearly_unit_sales / 12\n",
    "        month -= self.years_of_sales_maturity * 12\n",
    "        if month < self.years_of_sales_decline * 12:\n",
    "            return self.yearly_unit_sales * (1 - month / (self.years_of_sales_decline * 12)) / 12\n",
    "        return 0\n",
    "    \n",
    "    def __str__(self):\n",
    "        return (f\"development_ftes={self.development_ftes},\\n\"\n",
    "            f\"years_before_development={self.years_before_development},\\n\"\n",
    "            f\"years_of_development_growth={self.years_of_development_growth},\\n\"\n",
    "            f\"years_of_development_maturity={self.years_of_development_maturity},\\n\"\n",
    "            f\"years_of_development_decline={self.years_of_development_decline},\\n\"\n",
    "            f\"maintenance_ftes={self.maintenance_ftes},\\n\"\n",
    "            f\"years_before_sales={self.years_before_sales},\\n\"\n",
    "            f\"years_of_sales_growth={self.years_of_sales_growth},\\n\"\n",
    "            f\"years_of_sales_maturity={self.years_of_sales_maturity},\\n\"\n",
    "            f\"years_of_sales_decline={self.years_of_sales_decline},\\n\"\n",
    "            f\"unit_cost_pv={self.unit_cost_pv},\\n\"\n",
    "            f\"unit_price_cost_factor={self.unit_price_cost_factor},\\n\"\n",
    "            f\"unit_price_pv={self.unit_price_pv},\\n\"\n",
    "            f\"yearly_unit_sales={self.yearly_unit_sales},\\n\"\n",
    "            f\"total_remaining_years={self.total_remaining_years}\")"
   ]
  },
  {
   "cell_type": "markdown",
   "metadata": {},
   "source": [
    "Here is what the snapshot looks like, allowing all ranges to be computed with the random number generator. Please execute the cell below multiple times to see various scenarios."
   ]
  },
  {
   "cell_type": "code",
   "execution_count": 18,
   "metadata": {},
   "outputs": [
    {
     "name": "stdout",
     "output_type": "stream",
     "text": [
      "development_ftes=4.573639880382496,\n",
      "years_before_development=1.5,\n",
      "years_of_development_growth=0,\n",
      "years_of_development_maturity=3.2964672152772683,\n",
      "years_of_development_decline=0,\n",
      "maintenance_ftes=0.16726616804402283,\n",
      "years_before_sales=0,\n",
      "years_of_sales_growth=0,\n",
      "years_of_sales_maturity=10.145320985226615,\n",
      "years_of_sales_decline=0,\n",
      "unit_cost_pv=9170.433606717696,\n",
      "unit_price_cost_factor=1.9671531359645664,\n",
      "unit_price_pv=18039.647227609563,\n",
      "yearly_unit_sales=105.38548421974541,\n",
      "total_remaining_years=14.941788200503883\n"
     ]
    }
   ],
   "source": [
    "print(ProductVariablesSnapshot(product_variables_ranges))"
   ]
  },
  {
   "cell_type": "markdown",
   "metadata": {},
   "source": [
    "Here is what the snapshot of product variable looks like, allowing only yearly sales to change.  You can execute the cell below multiple times to see various scenarios."
   ]
  },
  {
   "cell_type": "code",
   "execution_count": 19,
   "metadata": {},
   "outputs": [
    {
     "name": "stdout",
     "output_type": "stream",
     "text": [
      "development_ftes=5,\n",
      "years_before_development=1.5,\n",
      "years_of_development_growth=0,\n",
      "years_of_development_maturity=4,\n",
      "years_of_development_decline=0,\n",
      "maintenance_ftes=0.5,\n",
      "years_before_sales=0,\n",
      "years_of_sales_growth=0,\n",
      "years_of_sales_maturity=10,\n",
      "years_of_sales_decline=0,\n",
      "unit_cost_pv=9000,\n",
      "unit_price_cost_factor=2.0,\n",
      "unit_price_pv=18000.0,\n",
      "yearly_unit_sales=112.84590200481438,\n",
      "total_remaining_years=15.5\n"
     ]
    }
   ],
   "source": [
    "product_variables_snapshot = ProductVariablesSnapshot(product_variables_ranges, Tornado.Yearly_Sales)\n",
    "print(product_variables_snapshot)"
   ]
  },
  {
   "cell_type": "markdown",
   "metadata": {},
   "source": [
    "# NPV Calculation Result"
   ]
  },
  {
   "cell_type": "markdown",
   "metadata": {},
   "source": [
    "Given the company_constants and the product_variable_snapshot, we can compute the NPV. We do this by calculating sales, cost_of_goods, sga, and development_costs. Before looking at the code that computes the NPV, let's look at what the NPV calculator will return."
   ]
  },
  {
   "cell_type": "code",
   "execution_count": 20,
   "metadata": {},
   "outputs": [],
   "source": [
    "# The result of a single NPV calculation\n",
    "class NpvCalculationResult:\n",
    "    def __init__(self):\n",
    "        self.development_cost = 0\n",
    "        self.sales = 0\n",
    "        self.cost_of_goods = 0\n",
    "        self.sga = 0\n",
    "        self.unit_sales = 0\n",
    "        self.total_remaining_years = 0\n",
    "        self.investment_before_revenue = 0\n",
    "        self.years_until_revenue = 0\n",
    "        self.years_until_break_even = 0\n",
    "\n",
    "    def npv(self):\n",
    "        return self.sales - self.cost_of_goods - self.sga - self.development_cost\n",
    "\n",
    "    def roi(self):\n",
    "        if( self.development_cost == 0):\n",
    "            return 0\n",
    "        return self.npv() / self.development_cost\n",
    "\n",
    "    def annualized_roi(self, years):\n",
    "        if( years == 0):\n",
    "            return 0\n",
    "        return (1 + self.roi()) ** (1 / years) - 1\n",
    "    \n",
    "    def __str__(self):\n",
    "        return (f\"development_cost={self.development_cost},\\n\"\n",
    "            f\"sales={self.sales},\\n\"\n",
    "            f\"cost_of_goods={self.cost_of_goods},\\n\"\n",
    "            f\"sga={self.sga},\\n\"\n",
    "            f\"unit_sales={self.unit_sales},\\n\"\n",
    "            f\"total_remaining_years={self.total_remaining_years},\\n\"\n",
    "            f\"investment_before_revenue={self.investment_before_revenue},\\n\"\n",
    "            f\"years_until_revenue={self.years_until_revenue},\\n\"\n",
    "            f\"years_until_break_even={self.years_until_break_even},\\n\"\n",
    "            f\"npv={self.npv()},\\n\"\n",
    "            f\"roi={self.roi()}\")"
   ]
  },
  {
   "cell_type": "markdown",
   "metadata": {},
   "source": [
    "# NPV Calculator"
   ]
  },
  {
   "cell_type": "markdown",
   "metadata": {},
   "source": [
    "This is the actual calculation code. Notice it breaks down the problem by iterating through each month of the project lifetime. Another takeaway is that we are using inflation to predict future dollars, but the market_return to determine the present value of those future dollars."
   ]
  },
  {
   "cell_type": "code",
   "execution_count": 21,
   "metadata": {},
   "outputs": [],
   "source": [
    "# Calculate the NPV of a product\n",
    "def calculate_npv(product_variables_snapshot, company_constants):\n",
    "\n",
    "    # this is what we will calculate and return \n",
    "    result = NpvCalculationResult()\n",
    "\n",
    "    # loop through all the months\n",
    "    for month in range(round(product_variables_snapshot.years_before_development * 12), round(product_variables_snapshot.total_remaining_years * 12) + 1):\n",
    "    \n",
    "        # compute the development_ftes for this month\n",
    "        development_ftes = product_variables_snapshot.development_ftes_this_month(month)\n",
    "\n",
    "        # compute the unit sales for this month\n",
    "        unit_sales = product_variables_snapshot.unit_sales_this_month(month)\n",
    "\n",
    "        # compute the future value of the cost of development, unit cost, and unit price for this month\n",
    "        monthly_development_cost_fte_fv = fv(company_constants.yearly_development_fte_cost_pv / 12, company_constants.inflation / 12, month)\n",
    "        unit_cost_fv = fv(product_variables_snapshot.unit_cost_pv, company_constants.inflation / 12, month)\n",
    "        unit_price_fv = fv(product_variables_snapshot.unit_price_pv, company_constants.inflation / 12, month)\n",
    "\n",
    "        # compute the selling, general, and administrative expenses per unit\n",
    "        sga_fv = unit_price_fv * company_constants.sga_percentage\n",
    "\n",
    "        # add the cost of development in present value terms\n",
    "        result.development_cost += pv(development_ftes * monthly_development_cost_fte_fv, company_constants.market_return / 12, month)\n",
    "        result.unit_sales += unit_sales\n",
    "        result.sales += pv(unit_sales * unit_price_fv, company_constants.market_return / 12, month)\n",
    "        result.cost_of_goods += pv(unit_sales * unit_cost_fv, company_constants.market_return / 12, month)\n",
    "        result.sga += pv(unit_sales * sga_fv, company_constants.market_return / 12, month)\n",
    "\n",
    "        # if we haven't started earning revenue yet, and we just did, record the year\n",
    "        if( result.years_until_revenue == 0 and unit_sales > 0):\n",
    "            result.years_until_revenue = month / 12\n",
    "            result.investment_before_revenue = result.development_cost\n",
    "\n",
    "        # if we haven't broken even yet, and we just did, record the year\n",
    "        if( result.years_until_break_even == 0 and result.npv() >= 0):\n",
    "            result.years_until_break_even = month / 12\n",
    "\n",
    "    # handy for the result\n",
    "    result.total_remaining_years = product_variables_snapshot.total_remaining_years\n",
    "\n",
    "    return result"
   ]
  },
  {
   "cell_type": "markdown",
   "metadata": {},
   "source": [
    "Let's compute the NPV for our variables."
   ]
  },
  {
   "cell_type": "code",
   "execution_count": 22,
   "metadata": {},
   "outputs": [
    {
     "name": "stdout",
     "output_type": "stream",
     "text": [
      "development_cost=1252083.3333333274,\n",
      "sales=20312262.360866554,\n",
      "cost_of_goods=10156131.180433277,\n",
      "sga=6093678.708259986,\n",
      "unit_sales=1128.459020048146,\n",
      "total_remaining_years=15.5,\n",
      "investment_before_revenue=1002083.3333333341,\n",
      "years_until_revenue=5.5,\n",
      "years_until_break_even=8.083333333333334,\n",
      "npv=2810369.138839964,\n",
      "roi=2.2445543870934923\n"
     ]
    }
   ],
   "source": [
    "result = calculate_npv(product_variables_snapshot, company_constants)\n",
    "print(result)"
   ]
  },
  {
   "cell_type": "markdown",
   "metadata": {},
   "source": [
    "Let's compute NPV for several scenarios. We call these \"Simulations\". Each time through the loop, we create another snapshot, which generates new random variables."
   ]
  },
  {
   "cell_type": "code",
   "execution_count": 23,
   "metadata": {},
   "outputs": [
    {
     "name": "stdout",
     "output_type": "stream",
     "text": [
      "3092951.171705667\n",
      "3259147.333930337\n",
      "3238999.273517821\n",
      "2800164.475838183\n",
      "3294797.047951296\n"
     ]
    }
   ],
   "source": [
    "for _ in range(5):\n",
    "    product_variables_snapshot = ProductVariablesSnapshot(product_variables_ranges)\n",
    "    result = calculate_npv(product_variables_snapshot, company_constants)\n",
    "    print(result.npv())"
   ]
  },
  {
   "cell_type": "markdown",
   "metadata": {},
   "source": [
    "# Storing and Plotting Multiple Simulations"
   ]
  },
  {
   "cell_type": "markdown",
   "metadata": {},
   "source": [
    "Here is a place we can store some data from each NPV calculation. The add function takes an NPV calculation result and picks off some things we want to save."
   ]
  },
  {
   "cell_type": "code",
   "execution_count": 24,
   "metadata": {},
   "outputs": [],
   "source": [
    "# Track all the results of multiple calculations\n",
    "class SimulationTracker:\n",
    "    def __init__(self):\n",
    "        self.npvs_millions = []\n",
    "        self.development_costs_millions = []\n",
    "        self.annualized_rois_percentage = []\n",
    "        self.unit_sales_thousands = []\n",
    "        self.sales_millions = []\n",
    "        self.years = []\n",
    "        self.investment_before_revenue = []\n",
    "        self.years_until_revenue = []\n",
    "        self.years_until_break_even = []\n",
    "    \n",
    "    def add(self, result):\n",
    "        self.npvs_millions.append(result.npv() / 1000000)\n",
    "        self.development_costs_millions.append(result.development_cost / 1000000)\n",
    "        self.annualized_rois_percentage.append(result.annualized_roi(result.total_remaining_years) * 100)\n",
    "        self.unit_sales_thousands.append(result.unit_sales / 1000)\n",
    "        self.sales_millions.append(result.sales / 1000000)\n",
    "        self.years.append(result.total_remaining_years)\n",
    "        self.investment_before_revenue.append(result.investment_before_revenue / 1000000)\n",
    "        self.years_until_revenue.append(result.years_until_revenue)\n",
    "        self.years_until_break_even.append(result.years_until_break_even)\n"
   ]
  },
  {
   "cell_type": "markdown",
   "metadata": {},
   "source": [
    "Now let's keep stats of 1000 simulations."
   ]
  },
  {
   "cell_type": "code",
   "execution_count": 25,
   "metadata": {},
   "outputs": [
    {
     "data": {
      "image/png": "[encoded data removed]",
      "text/plain": [
       "<Figure size 640x480 with 1 Axes>"
      ]
     },
     "metadata": {},
     "output_type": "display_data"
    }
   ],
   "source": [
    "simulation_tracker = SimulationTracker()\n",
    "\n",
    "for _ in range(1000):\n",
    "    product_variables_snapshot = ProductVariablesSnapshot(product_variables_ranges)\n",
    "    result = calculate_npv(product_variables_snapshot, company_constants)\n",
    "    simulation_tracker.add(result)\n",
    "\n",
    "plt.hist(simulation_tracker.npvs_millions, bins=20)\n",
    "plt.xlabel('NPV ($ millions)', fontsize=10)\n",
    "plt.yticks([])\n",
    "plt.show()"
   ]
  },
  {
   "cell_type": "markdown",
   "metadata": {},
   "source": [
    "# Putting it all together"
   ]
  },
  {
   "cell_type": "markdown",
   "metadata": {},
   "source": [
    "Now let's put it all together for a full analysis. First, we also need a place to store tornado simulations."
   ]
  },
  {
   "cell_type": "code",
   "execution_count": 26,
   "metadata": {},
   "outputs": [],
   "source": [
    "class TornadoTracker:\n",
    "    def __init__(self, tornado, name):\n",
    "        self.tornado = tornado\n",
    "        self.name = name\n",
    "        self.min_value = float('inf')\n",
    "        self.max_value = float('-inf')\n",
    "\n",
    "    def add(self, value):\n",
    "        if value < self.min_value:\n",
    "            self.min_value = value\n",
    "        if value > self.max_value:\n",
    "            self.max_value = value\n",
    "    \n",
    "    def range(self):\n",
    "        return self.max_value - self.min_value"
   ]
  },
  {
   "cell_type": "markdown",
   "metadata": {},
   "source": [
    "Here is the final analysis code. Notice we start with gathering the company_constants and the product_variable_ranges. We then create a place to store each simulation and seven different tornado sensitivity analysis results.\n",
    "\n",
    "We define a function called analyze that runs a bunch of simulations while varying all the ranges, and then just one range at a time for seven ranges.\n",
    "\n",
    "Finally we define a function to plot the results.\n",
    "\n",
    "The concept of running a lot of simulations and plotting the results is called a \"Monte Carlo Analysis\""
   ]
  },
  {
   "cell_type": "code",
   "execution_count": 27,
   "metadata": {},
   "outputs": [],
   "source": [
    "class MonteCarloAnalyzer:\n",
    "    def __init__(self, company_constants, product_variables_ranges):\n",
    "        self.company_constants = company_constants\n",
    "        self.product_variables_ranges = product_variables_ranges\n",
    "        self.simulation_tracker = SimulationTracker()\n",
    "        self.tornado_trackers = []\n",
    "        self.tornado_trackers.append(TornadoTracker(Tornado.Dev_Ftes, 'Dev FTEs'))\n",
    "        self.tornado_trackers.append(TornadoTracker(Tornado.Dev_Years, 'Dev Years'))\n",
    "        self.tornado_trackers.append(TornadoTracker(Tornado.Maint_Ftes, 'Maint FTEs'))\n",
    "        self.tornado_trackers.append(TornadoTracker(Tornado.Sales_Years, 'Sales Years'))\n",
    "        self.tornado_trackers.append(TornadoTracker(Tornado.Unit_Cost, 'Unit Cost'))\n",
    "        self.tornado_trackers.append(TornadoTracker(Tornado.Margin, 'Margin'))\n",
    "        self.tornado_trackers.append(TornadoTracker(Tornado.Yearly_Sales, 'Yearly Sales'))\n",
    "\n",
    "    def analyze(self):\n",
    "        # compute the monte carlo analysis\n",
    "        for i in range(2000):\n",
    "            product_variables_snapshot = ProductVariablesSnapshot(self.product_variables_ranges)\n",
    "            result = calculate_npv(product_variables_snapshot, self.company_constants)\n",
    "            self.simulation_tracker.add(result)\n",
    "\n",
    "        # compute the tornado analysis\n",
    "        for i in range(100):    \n",
    "            for tornado_tracker in self.tornado_trackers:\n",
    "                product_variables_snapshot = ProductVariablesSnapshot(self.product_variables_ranges, tornado_tracker.tornado)\n",
    "                result = calculate_npv(product_variables_snapshot, self.company_constants)\n",
    "                tornado_tracker.add(result.npv() / 1000000)\n",
    "\n",
    "        # Sort the tornado trackers by range\n",
    "        self.tornado_trackers.sort(key=lambda x: x.range())\n",
    "    \n",
    "    # create a histogram\n",
    "    def create_histogram(self, data, bins, xlabel, subplot_position, rows, cols):\n",
    "        plt.subplot(rows, cols, subplot_position)\n",
    "        plt.hist(data, bins=bins, edgecolor='black')\n",
    "        plt.yticks([])\n",
    "        plt.xlabel(xlabel, fontsize=10)\n",
    "\n",
    "    # create a tornado plot\n",
    "    def create_tornado_plot(self, names, ranges, min_values, xlabel, subplot_position, rows, cols):\n",
    "        plt.subplot(rows, cols, subplot_position)\n",
    "        plt.barh(names, ranges, left=min_values)\n",
    "        plt.xlabel(xlabel)\n",
    "\n",
    "    # plot the results\n",
    "    def plot(self, file_path = \"\"):\n",
    "        rows = 3\n",
    "        cols = 3\n",
    "        plt.figure(figsize=(10, 5))\n",
    "\n",
    "        self.create_histogram(self.simulation_tracker.unit_sales_thousands, 20, 'Sales (units/1000)', 1, rows, cols)\n",
    "        self.create_histogram(self.simulation_tracker.sales_millions, 20, 'Sales ($ millions)', 2, rows, cols)\n",
    "        self.create_histogram(self.simulation_tracker.development_costs_millions, 20, 'Development ($ millions)', 3, rows, cols)\n",
    "        self.create_histogram(self.simulation_tracker.npvs_millions, 20, 'NPV ($ millions)', 4, rows, cols)\n",
    "        self.create_histogram(self.simulation_tracker.annualized_rois_percentage, 20, 'Annualized ROI (%)', 5, rows, cols)\n",
    "        # self.create_histogram(self.years, 30, 'Product Years', 6, rows, cols)\n",
    "        self.create_histogram(self.simulation_tracker.investment_before_revenue, 20, 'Investment before Revenue ($ millions)', 6, rows, cols)\n",
    "        self.create_histogram(self.simulation_tracker.years_until_revenue, 10, 'Years until Revenue', 7, rows, cols)\n",
    "        self.create_histogram(self.simulation_tracker.years_until_break_even, 10, 'Years until Break Even', 8, rows, cols)\n",
    "\n",
    "        tornado_names = [tornado_tracker.name for tornado_tracker in self.tornado_trackers]\n",
    "        tornado_ranges = [tornado_tracker.range() for tornado_tracker in self.tornado_trackers]\n",
    "        tornado_min_values = [tornado_tracker.min_value for tornado_tracker in self.tornado_trackers]\n",
    "        self.create_tornado_plot(tornado_names, tornado_ranges, tornado_min_values, 'NPV Sensitivity ($ millions)', 9, rows, cols)\n",
    "\n",
    "        plt.tight_layout()\n",
    "        if( file_path != \"\"):\n",
    "            plt.savefig(file_path)\n",
    "        else:\n",
    "            plt.show()\n",
    "        plt.close()"
   ]
  },
  {
   "cell_type": "markdown",
   "metadata": {},
   "source": [
    "# Monte Carlo Results"
   ]
  },
  {
   "cell_type": "markdown",
   "metadata": {},
   "source": [
    "Below you will find some code and a plot.\n",
    "\n",
    "The code defines company variables like the cost of a full-time-equivalent engineer in the product development department. In this case 50000. The code also defines product variables like unit cost. Unit cost is given as a range of three number, the lowest, the most likely, and the highest unit cost. In this case, we expect the unit cost to be 9000, but range from 8000 to 12000.\n",
    "\n",
    "One of the plots below shows the expected NPV of moving forward with the product as a range (histogram). In this case the NPV ranges from about 2 to 5 million, with 3 million being the most likely.\n",
    "\n",
    "The strange looking plot shows which ranges are causing the most uncertainty in NPV. In this case, Sales Years is the biggest driver of uncertainty.\n",
    "\n",
    "The plot can be updated when you make changes to the code. To get ready to do that, pick \"Run all\" from the \"Runtime\" menu now (and accept the security warning). You only need to do this once each time you open this notebook.\n",
    "\n",
    "Then, go ahead and change the code as you see fit and press the triangle to the left of the code to run it.\n",
    "\n",
    "For example, if you want to increase the expected inflation to 5%, set company_constants.inflation = 0.05, and then press the triangle to the left of the code to see the new plots."
   ]
  },
  {
   "cell_type": "code",
   "execution_count": 28,
   "metadata": {},
   "outputs": [
    {
     "data": {
      "image/png": "[encoded data removed]",
      "text/plain": [
       "<Figure size 1000x500 with 9 Axes>"
      ]
     },
     "metadata": {},
     "output_type": "display_data"
    }
   ],
   "source": [
    "company_constants.market_return = 0.03\n",
    "company_constants.yearly_development_fte_cost_pv = 50000\n",
    "company_constants.inflation = 0.03\n",
    "company_constants.sga_percentage = 0.30\n",
    "\n",
    "product_variables_ranges.years_before_development = 1.5\n",
    "product_variables_ranges.years_of_development_growth = 0\n",
    "product_variables_ranges.years_of_development_maturity = [3, 4, 5]\n",
    "product_variables_ranges.years_of_development_decline = 0\n",
    "product_variables_ranges.years_before_sales = 0\n",
    "product_variables_ranges.years_of_sales_growth = 0\n",
    "product_variables_ranges.years_of_sales_maturity = [8, 10, 12]\n",
    "product_variables_ranges.years_of_sales_decline = 0\n",
    "product_variables_ranges.development_ftes = [4, 5, 6]\n",
    "product_variables_ranges.maintenance_ftes = [0, 0.5, 1]\n",
    "product_variables_ranges.unit_cost_pv=[8000, 9000, 12000]\n",
    "product_variables_ranges.unit_price_cost_factor = [1.9, 2.0, 2.1]\n",
    "product_variables_ranges.yearly_unit_sales_lowest_price = [110, 120, 150]\n",
    "product_variables_ranges.yearly_unit_sales_highest_price = [80, 90, 120]\n",
    "\n",
    "monte_carlo = MonteCarloAnalyzer(company_constants, product_variables_ranges)\n",
    "monte_carlo.analyze()\n",
    "monte_carlo.plot()"
   ]
  }
 ],
 "metadata": {
  "kernelspec": {
   "display_name": "base",
   "language": "python",
   "name": "python3"
  },
  "language_info": {
   "codemirror_mode": {
    "name": "ipython",
    "version": 3
   },
   "file_extension": ".py",
   "mimetype": "text/x-python",
   "name": "python",
   "nbconvert_exporter": "python",
   "pygments_lexer": "ipython3",
   "version": "3.11.5"
  }
 },
 "nbformat": 4,
 "nbformat_minor": 2
}
